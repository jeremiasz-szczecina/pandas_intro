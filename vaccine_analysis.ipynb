{
  "nbformat": 4,
  "nbformat_minor": 0,
  "metadata": {
    "colab": {
      "name": "vaccine_analysis.ipynb",
      "provenance": [],
      "collapsed_sections": []
    },
    "kernelspec": {
      "name": "python3",
      "display_name": "Python 3"
    },
    "language_info": {
      "name": "python"
    }
  },
  "cells": [
    {
      "cell_type": "code",
      "metadata": {
        "id": "ot2-Bm07sQqr"
      },
      "source": [
        "import pandas as pd\n",
        "import numpy as np"
      ],
      "execution_count": null,
      "outputs": []
    },
    {
      "cell_type": "code",
      "metadata": {
        "id": "x2EO4WXqtTm0"
      },
      "source": [
        "import matplotlib.pyplot as plt\n",
        "import seaborn as sns\n",
        "%matplotlib inline"
      ],
      "execution_count": null,
      "outputs": []
    },
    {
      "cell_type": "code",
      "metadata": {
        "id": "nsZ9s3KWsuAO"
      },
      "source": [
        "df = pd.read_csv('country_vaccinations.csv')"
      ],
      "execution_count": null,
      "outputs": []
    },
    {
      "cell_type": "code",
      "metadata": {
        "id": "iusMAC5oxzUN"
      },
      "source": [
        "df.head()"
      ],
      "execution_count": null,
      "outputs": []
    },
    {
      "cell_type": "code",
      "metadata": {
        "colab": {
          "base_uri": "https://localhost:8080/"
        },
        "id": "JR6Jg5wutZMU",
        "outputId": "edef32c1-dcf6-4001-d569-a5b1667b57ee"
      },
      "source": [
        "## CHECKING HOW MANY NaNs ACTUALLY IS IN THE TABLE ::\n",
        "df.isna().sum()"
      ],
      "execution_count": null,
      "outputs": [
        {
          "output_type": "execute_result",
          "data": {
            "text/plain": [
              "country                                    0\n",
              "iso_code                                   0\n",
              "date                                       0\n",
              "total_vaccinations                     28537\n",
              "people_vaccinated                      30141\n",
              "people_fully_vaccinated                32945\n",
              "daily_vaccinations_raw                 34531\n",
              "daily_vaccinations                       339\n",
              "total_vaccinations_per_hundred         28537\n",
              "people_vaccinated_per_hundred          30141\n",
              "people_fully_vaccinated_per_hundred    32945\n",
              "daily_vaccinations_per_million           339\n",
              "vaccines                                   0\n",
              "source_name                                0\n",
              "source_website                             0\n",
              "dtype: int64"
            ]
          },
          "metadata": {},
          "execution_count": 9
        }
      ]
    },
    {
      "cell_type": "code",
      "metadata": {
        "id": "qO2tneM8ut8-"
      },
      "source": [
        "## FILLING NaNs WITH ZEROS ::\n",
        "df.fillna(0, inplace=True)"
      ],
      "execution_count": null,
      "outputs": []
    },
    {
      "cell_type": "code",
      "metadata": {
        "colab": {
          "base_uri": "https://localhost:8080/"
        },
        "id": "7r21_3lhvzHG",
        "outputId": "c55e9255-4906-46b1-af7d-67eb71baec2b"
      },
      "source": [
        "## CHECKING IF THERE ARE ROWS WITH ISO_CODE = 0\n",
        "(df['iso_code'] == 0).sum()"
      ],
      "execution_count": null,
      "outputs": [
        {
          "output_type": "execute_result",
          "data": {
            "text/plain": [
              "0"
            ]
          },
          "metadata": {},
          "execution_count": 11
        }
      ]
    },
    {
      "cell_type": "code",
      "metadata": {
        "colab": {
          "base_uri": "https://localhost:8080/"
        },
        "id": "6wUedB5Xwdmm",
        "outputId": "5a6a5231-e807-4f64-aefd-971d5f55095f"
      },
      "source": [
        "df.info()"
      ],
      "execution_count": null,
      "outputs": [
        {
          "output_type": "stream",
          "name": "stdout",
          "text": [
            "<class 'pandas.core.frame.DataFrame'>\n",
            "RangeIndex: 61820 entries, 0 to 61819\n",
            "Data columns (total 15 columns):\n",
            " #   Column                               Non-Null Count  Dtype  \n",
            "---  ------                               --------------  -----  \n",
            " 0   country                              61820 non-null  object \n",
            " 1   iso_code                             61820 non-null  object \n",
            " 2   date                                 61820 non-null  object \n",
            " 3   total_vaccinations                   61820 non-null  float64\n",
            " 4   people_vaccinated                    61820 non-null  float64\n",
            " 5   people_fully_vaccinated              61820 non-null  float64\n",
            " 6   daily_vaccinations_raw               61820 non-null  float64\n",
            " 7   daily_vaccinations                   61820 non-null  float64\n",
            " 8   total_vaccinations_per_hundred       61820 non-null  float64\n",
            " 9   people_vaccinated_per_hundred        61820 non-null  float64\n",
            " 10  people_fully_vaccinated_per_hundred  61820 non-null  float64\n",
            " 11  daily_vaccinations_per_million       61820 non-null  float64\n",
            " 12  vaccines                             61820 non-null  object \n",
            " 13  source_name                          61820 non-null  object \n",
            " 14  source_website                       61820 non-null  object \n",
            "dtypes: float64(9), object(6)\n",
            "memory usage: 7.1+ MB\n"
          ]
        }
      ]
    },
    {
      "cell_type": "code",
      "metadata": {
        "id": "JiVF0eGhw4qk"
      },
      "source": [
        "## CONVERTING COLUMN \"DATE\" TO DATE TYPE FROM TYPE 'OBJECT'\n",
        "format='%Y-%m-%d'\n",
        "df['date'] = pd.to_datetime(df['date'], format=format)"
      ],
      "execution_count": null,
      "outputs": []
    },
    {
      "cell_type": "code",
      "metadata": {
        "colab": {
          "base_uri": "https://localhost:8080/"
        },
        "id": "mhwxfyEMxlxv",
        "outputId": "73778426-ba36-4214-9736-a8afa148f7f4"
      },
      "source": [
        "df.columns"
      ],
      "execution_count": null,
      "outputs": [
        {
          "output_type": "execute_result",
          "data": {
            "text/plain": [
              "Index(['country', 'iso_code', 'date', 'total_vaccinations',\n",
              "       'people_vaccinated', 'people_fully_vaccinated',\n",
              "       'daily_vaccinations_raw', 'daily_vaccinations',\n",
              "       'total_vaccinations_per_hundred', 'people_vaccinated_per_hundred',\n",
              "       'people_fully_vaccinated_per_hundred', 'daily_vaccinations_per_million',\n",
              "       'vaccines', 'source_name', 'source_website'],\n",
              "      dtype='object')"
            ]
          },
          "metadata": {},
          "execution_count": 14
        }
      ]
    },
    {
      "cell_type": "code",
      "metadata": {
        "id": "JlIJ-SLxx4TN"
      },
      "source": [
        "## DROPPING COLUMNS I WON'T USE:\n",
        "df.drop(['source_name', 'source_website'], axis=1, inplace=True)"
      ],
      "execution_count": null,
      "outputs": []
    },
    {
      "cell_type": "code",
      "metadata": {
        "colab": {
          "base_uri": "https://localhost:8080/"
        },
        "id": "NJN1Y3Xf0LTv",
        "outputId": "671a4e46-0a09-42e0-edc1-e8e08320222d"
      },
      "source": [
        "## CHECKING NUMBER OF RECORDS FOR COUNTRIES: POL, USA AND ISOLATING THEM IN SEPARATE DF'S\n",
        "pol = (df['country'] == 'Poland').sum()\n",
        "usa = (df['country'] == 'United States').sum()\n",
        "print(f'Poland - {pol} records')\n",
        "print(f'USA - {usa} records')\n",
        "df_POL = df[df['iso_code'] == 'POL']\n",
        "df_USA = df[df['iso_code'] == 'USA']"
      ],
      "execution_count": null,
      "outputs": [
        {
          "output_type": "stream",
          "name": "stdout",
          "text": [
            "Poland - 342 records\n",
            "USA - 357 records\n"
          ]
        }
      ]
    },
    {
      "cell_type": "code",
      "metadata": {
        "id": "Qog3lptC1Pjf"
      },
      "source": [
        "df_USA.head(50)"
      ],
      "execution_count": null,
      "outputs": []
    },
    {
      "cell_type": "code",
      "metadata": {
        "colab": {
          "base_uri": "https://localhost:8080/"
        },
        "id": "mb3vhLrR1fP-",
        "outputId": "11ddb9ff-ee8d-4ff3-a89e-b8cf7b34146b"
      },
      "source": [
        "## WE NEED TO REMOVE ROWS WHERE TOTAL VACCS ARE ZERO:\n",
        "df_POL.drop(df_POL.index[df_POL['total_vaccinations'] == 0], inplace=True)\n",
        "df_USA.drop(df_USA.index[df_USA['total_vaccinations'] == 0], inplace=True)"
      ],
      "execution_count": null,
      "outputs": [
        {
          "output_type": "stream",
          "name": "stderr",
          "text": [
            "/usr/local/lib/python3.7/dist-packages/pandas/core/frame.py:4174: SettingWithCopyWarning: \n",
            "A value is trying to be set on a copy of a slice from a DataFrame\n",
            "\n",
            "See the caveats in the documentation: https://pandas.pydata.org/pandas-docs/stable/user_guide/indexing.html#returning-a-view-versus-a-copy\n",
            "  errors=errors,\n",
            "/usr/local/lib/python3.7/dist-packages/pandas/core/frame.py:4174: SettingWithCopyWarning: \n",
            "A value is trying to be set on a copy of a slice from a DataFrame\n",
            "\n",
            "See the caveats in the documentation: https://pandas.pydata.org/pandas-docs/stable/user_guide/indexing.html#returning-a-view-versus-a-copy\n",
            "  errors=errors,\n"
          ]
        }
      ]
    },
    {
      "cell_type": "code",
      "metadata": {
        "id": "2Cd5XCY5TtoO"
      },
      "source": [
        "df_USA.head()"
      ],
      "execution_count": null,
      "outputs": []
    },
    {
      "cell_type": "code",
      "metadata": {
        "colab": {
          "base_uri": "https://localhost:8080/",
          "height": 404
        },
        "id": "PMcfZmMS3jGA",
        "outputId": "94431a52-5c10-4adf-e636-c31d35e058f1"
      },
      "source": [
        "plt.figure(figsize=(18,6))\n",
        "sns.lineplot(data=df_POL, x='date', y='total_vaccinations')\n",
        "plt.title('total vaccs in Poland')\n",
        "plt.xticks(rotation=0)\n",
        "plt.show()"
      ],
      "execution_count": null,
      "outputs": [
        {
          "output_type": "display_data",
          "data": {
            "image/png": "[encoded data removed]",
            "text/plain": [
              "<Figure size 1296x432 with 1 Axes>"
            ]
          },
          "metadata": {
            "needs_background": "light"
          }
        }
      ]
    },
    {
      "cell_type": "code",
      "metadata": {
        "colab": {
          "base_uri": "https://localhost:8080/",
          "height": 404
        },
        "id": "LKQGSTN56KWY",
        "outputId": "76a4d5cb-a58f-402f-d38e-b60124be8b1d"
      },
      "source": [
        "plt.figure(figsize=(18,6))\n",
        "sns.lineplot(data=df_POL, x='date', y='daily_vaccinations')\n",
        "plt.title('total vaccs in Poland')\n",
        "plt.xticks(rotation=0)\n",
        "plt.show()"
      ],
      "execution_count": null,
      "outputs": [
        {
          "output_type": "display_data",
          "data": {
            "image/png": "[encoded data removed]",
            "text/plain": [
              "<Figure size 1296x432 with 1 Axes>"
            ]
          },
          "metadata": {
            "needs_background": "light"
          }
        }
      ]
    },
    {
      "cell_type": "code",
      "metadata": {
        "colab": {
          "base_uri": "https://localhost:8080/",
          "height": 404
        },
        "id": "f7H_ZN0b6gTR",
        "outputId": "e4cd2825-2277-40e7-b441-425038a31481"
      },
      "source": [
        "plt.figure(figsize=(18,6))\n",
        "sns.lineplot(data=df_USA, x='date', y='total_vaccinations')\n",
        "plt.title('total vaccs in USA')\n",
        "plt.xticks(rotation=0)\n",
        "plt.show()"
      ],
      "execution_count": null,
      "outputs": [
        {
          "output_type": "display_data",
          "data": {
            "image/png": "[encoded data removed]",
            "text/plain": [
              "<Figure size 1296x432 with 1 Axes>"
            ]
          },
          "metadata": {
            "needs_background": "light"
          }
        }
      ]
    },
    {
      "cell_type": "code",
      "metadata": {
        "colab": {
          "base_uri": "https://localhost:8080/",
          "height": 404
        },
        "id": "FLuHbGNpTVoF",
        "outputId": "50614088-14a5-4b14-8df9-a381093742fa"
      },
      "source": [
        "plt.figure(figsize=(18,6))\n",
        "sns.lineplot(data=df_USA, x='date', y='daily_vaccinations')\n",
        "plt.title('total vaccs in USA')\n",
        "plt.xticks(rotation=0)\n",
        "plt.show()"
      ],
      "execution_count": null,
      "outputs": [
        {
          "output_type": "display_data",
          "data": {
            "image/png": "[encoded data removed]",
            "text/plain": [
              "<Figure size 1296x432 with 1 Axes>"
            ]
          },
          "metadata": {
            "needs_background": "light"
          }
        }
      ]
    },
    {
      "cell_type": "code",
      "metadata": {
        "id": "4mOAvI9fU0qh"
      },
      "source": [
        "## TOP 10 COUNTRIES WITH THE HIGHEST AMOUNT OF VACCINATED PEOPLE PER 100 OF THE POPULATION\n",
        "## WAZNE!! : W MOMENCIE GDY ZROBI SIE GROUP BY 'JAKAS KOLUMNA', KOLUMNA STAJE SIE INDEKSEM\n",
        "## DLATEGO POTEM BEDZIE PLOTOWANE PO INDEKSIE\n",
        "vacc_by_country = (df.groupby('country').max()).sort_values('total_vaccinations', ascending=False)\n",
        "vacc_by_country = vacc_by_country.iloc[:10]\n"
      ],
      "execution_count": null,
      "outputs": []
    },
    {
      "cell_type": "code",
      "metadata": {
        "colab": {
          "base_uri": "https://localhost:8080/",
          "height": 795
        },
        "id": "NQR4XS-uWGQe",
        "outputId": "61d4863d-2ebb-407e-8bfd-160a5be7331c"
      },
      "source": [
        "## SORT PER 100\n",
        "vacc_by_country = vacc_by_country.sort_values('total_vaccinations_per_hundred', ascending=False)\n",
        "vacc_by_country"
      ],
      "execution_count": null,
      "outputs": [
        {
          "output_type": "execute_result",
          "data": {
            "text/html": [
              "<div>\n",
              "<style scoped>\n",
              "    .dataframe tbody tr th:only-of-type {\n",
              "        vertical-align: middle;\n",
              "    }\n",
              "\n",
              "    .dataframe tbody tr th {\n",
              "        vertical-align: top;\n",
              "    }\n",
              "\n",
              "    .dataframe thead th {\n",
              "        text-align: right;\n",
              "    }\n",
              "</style>\n",
              "<table border=\"1\" class=\"dataframe\">\n",
              "  <thead>\n",
              "    <tr style=\"text-align: right;\">\n",
              "      <th></th>\n",
              "      <th>iso_code</th>\n",
              "      <th>date</th>\n",
              "      <th>total_vaccinations</th>\n",
              "      <th>people_vaccinated</th>\n",
              "      <th>people_fully_vaccinated</th>\n",
              "      <th>daily_vaccinations_raw</th>\n",
              "      <th>daily_vaccinations</th>\n",
              "      <th>total_vaccinations_per_hundred</th>\n",
              "      <th>people_vaccinated_per_hundred</th>\n",
              "      <th>people_fully_vaccinated_per_hundred</th>\n",
              "      <th>daily_vaccinations_per_million</th>\n",
              "      <th>vaccines</th>\n",
              "    </tr>\n",
              "    <tr>\n",
              "      <th>country</th>\n",
              "      <th></th>\n",
              "      <th></th>\n",
              "      <th></th>\n",
              "      <th></th>\n",
              "      <th></th>\n",
              "      <th></th>\n",
              "      <th></th>\n",
              "      <th></th>\n",
              "      <th></th>\n",
              "      <th></th>\n",
              "      <th></th>\n",
              "      <th></th>\n",
              "    </tr>\n",
              "  </thead>\n",
              "  <tbody>\n",
              "    <tr>\n",
              "      <th>China</th>\n",
              "      <td>CHN</td>\n",
              "      <td>2021-12-04</td>\n",
              "      <td>2.543424e+09</td>\n",
              "      <td>1.225000e+09</td>\n",
              "      <td>1.110506e+09</td>\n",
              "      <td>24741000.0</td>\n",
              "      <td>22424286.0</td>\n",
              "      <td>176.11</td>\n",
              "      <td>84.82</td>\n",
              "      <td>76.89</td>\n",
              "      <td>15527.0</td>\n",
              "      <td>CanSino, Sinopharm/Beijing, Sinopharm/Wuhan, S...</td>\n",
              "    </tr>\n",
              "    <tr>\n",
              "      <th>Japan</th>\n",
              "      <td>JPN</td>\n",
              "      <td>2021-12-02</td>\n",
              "      <td>1.974232e+08</td>\n",
              "      <td>9.986151e+07</td>\n",
              "      <td>9.755810e+07</td>\n",
              "      <td>6586453.0</td>\n",
              "      <td>1997542.0</td>\n",
              "      <td>156.62</td>\n",
              "      <td>79.22</td>\n",
              "      <td>77.40</td>\n",
              "      <td>15847.0</td>\n",
              "      <td>Moderna, Oxford/AstraZeneca, Pfizer/BioNTech</td>\n",
              "    </tr>\n",
              "    <tr>\n",
              "      <th>Germany</th>\n",
              "      <td>DEU</td>\n",
              "      <td>2021-12-03</td>\n",
              "      <td>1.266218e+08</td>\n",
              "      <td>5.976498e+07</td>\n",
              "      <td>5.732369e+07</td>\n",
              "      <td>1429151.0</td>\n",
              "      <td>875304.0</td>\n",
              "      <td>150.92</td>\n",
              "      <td>71.23</td>\n",
              "      <td>68.32</td>\n",
              "      <td>10433.0</td>\n",
              "      <td>Johnson&amp;Johnson, Moderna, Oxford/AstraZeneca, ...</td>\n",
              "    </tr>\n",
              "    <tr>\n",
              "      <th>Brazil</th>\n",
              "      <td>BRA</td>\n",
              "      <td>2021-12-04</td>\n",
              "      <td>3.144508e+08</td>\n",
              "      <td>1.645436e+08</td>\n",
              "      <td>1.368306e+08</td>\n",
              "      <td>3002675.0</td>\n",
              "      <td>1941268.0</td>\n",
              "      <td>146.94</td>\n",
              "      <td>76.89</td>\n",
              "      <td>63.94</td>\n",
              "      <td>9072.0</td>\n",
              "      <td>Johnson&amp;Johnson, Oxford/AstraZeneca, Pfizer/Bi...</td>\n",
              "    </tr>\n",
              "    <tr>\n",
              "      <th>United States</th>\n",
              "      <td>USA</td>\n",
              "      <td>2021-12-04</td>\n",
              "      <td>4.685168e+08</td>\n",
              "      <td>2.352980e+08</td>\n",
              "      <td>1.970743e+08</td>\n",
              "      <td>4513858.0</td>\n",
              "      <td>3493409.0</td>\n",
              "      <td>141.12</td>\n",
              "      <td>70.87</td>\n",
              "      <td>59.36</td>\n",
              "      <td>10522.0</td>\n",
              "      <td>Johnson&amp;Johnson, Moderna, Pfizer/BioNTech</td>\n",
              "    </tr>\n",
              "    <tr>\n",
              "      <th>Vietnam</th>\n",
              "      <td>VNM</td>\n",
              "      <td>2021-12-03</td>\n",
              "      <td>1.268468e+08</td>\n",
              "      <td>7.315530e+07</td>\n",
              "      <td>5.369147e+07</td>\n",
              "      <td>2091069.0</td>\n",
              "      <td>1675471.0</td>\n",
              "      <td>129.21</td>\n",
              "      <td>74.52</td>\n",
              "      <td>54.69</td>\n",
              "      <td>17067.0</td>\n",
              "      <td>Moderna, Oxford/AstraZeneca, Pfizer/BioNTech, ...</td>\n",
              "    </tr>\n",
              "    <tr>\n",
              "      <th>Mexico</th>\n",
              "      <td>MEX</td>\n",
              "      <td>2021-12-02</td>\n",
              "      <td>1.332562e+08</td>\n",
              "      <td>7.736631e+07</td>\n",
              "      <td>6.516687e+07</td>\n",
              "      <td>7246123.0</td>\n",
              "      <td>1648223.0</td>\n",
              "      <td>102.30</td>\n",
              "      <td>59.39</td>\n",
              "      <td>50.03</td>\n",
              "      <td>12653.0</td>\n",
              "      <td>CanSino, Johnson&amp;Johnson, Moderna, Oxford/Astr...</td>\n",
              "    </tr>\n",
              "    <tr>\n",
              "      <th>India</th>\n",
              "      <td>IND</td>\n",
              "      <td>2021-12-04</td>\n",
              "      <td>1.273806e+09</td>\n",
              "      <td>7.997455e+08</td>\n",
              "      <td>4.740607e+08</td>\n",
              "      <td>18627269.0</td>\n",
              "      <td>10037995.0</td>\n",
              "      <td>91.42</td>\n",
              "      <td>57.39</td>\n",
              "      <td>34.02</td>\n",
              "      <td>7204.0</td>\n",
              "      <td>Covaxin, Oxford/AstraZeneca, Sputnik V</td>\n",
              "    </tr>\n",
              "    <tr>\n",
              "      <th>Russia</th>\n",
              "      <td>RUS</td>\n",
              "      <td>2021-12-04</td>\n",
              "      <td>1.302656e+08</td>\n",
              "      <td>6.799171e+07</td>\n",
              "      <td>5.848006e+07</td>\n",
              "      <td>2389472.0</td>\n",
              "      <td>1020075.0</td>\n",
              "      <td>89.28</td>\n",
              "      <td>46.60</td>\n",
              "      <td>40.08</td>\n",
              "      <td>6991.0</td>\n",
              "      <td>EpiVacCorona, Sputnik V</td>\n",
              "    </tr>\n",
              "    <tr>\n",
              "      <th>Indonesia</th>\n",
              "      <td>IDN</td>\n",
              "      <td>2021-12-04</td>\n",
              "      <td>2.414419e+08</td>\n",
              "      <td>1.424323e+08</td>\n",
              "      <td>9.900958e+07</td>\n",
              "      <td>3087420.0</td>\n",
              "      <td>1901294.0</td>\n",
              "      <td>87.36</td>\n",
              "      <td>51.54</td>\n",
              "      <td>35.83</td>\n",
              "      <td>6880.0</td>\n",
              "      <td>Moderna, Oxford/AstraZeneca, Pfizer/BioNTech, ...</td>\n",
              "    </tr>\n",
              "  </tbody>\n",
              "</table>\n",
              "</div>"
            ],
            "text/plain": [
              "              iso_code  ...                                           vaccines\n",
              "country                 ...                                                   \n",
              "China              CHN  ...  CanSino, Sinopharm/Beijing, Sinopharm/Wuhan, S...\n",
              "Japan              JPN  ...       Moderna, Oxford/AstraZeneca, Pfizer/BioNTech\n",
              "Germany            DEU  ...  Johnson&Johnson, Moderna, Oxford/AstraZeneca, ...\n",
              "Brazil             BRA  ...  Johnson&Johnson, Oxford/AstraZeneca, Pfizer/Bi...\n",
              "United States      USA  ...          Johnson&Johnson, Moderna, Pfizer/BioNTech\n",
              "Vietnam            VNM  ...  Moderna, Oxford/AstraZeneca, Pfizer/BioNTech, ...\n",
              "Mexico             MEX  ...  CanSino, Johnson&Johnson, Moderna, Oxford/Astr...\n",
              "India              IND  ...             Covaxin, Oxford/AstraZeneca, Sputnik V\n",
              "Russia             RUS  ...                            EpiVacCorona, Sputnik V\n",
              "Indonesia          IDN  ...  Moderna, Oxford/AstraZeneca, Pfizer/BioNTech, ...\n",
              "\n",
              "[10 rows x 12 columns]"
            ]
          },
          "metadata": {},
          "execution_count": 26
        }
      ]
    },
    {
      "cell_type": "code",
      "metadata": {
        "colab": {
          "base_uri": "https://localhost:8080/",
          "height": 341
        },
        "id": "wGLb1uh7aVwF",
        "outputId": "01bb5e25-7a14-497e-d6af-3528f2bbaa54"
      },
      "source": [
        "plt.bar(vacc_by_country.index, vacc_by_country.total_vaccinations_per_hundred)\n",
        "plt.xticks(rotation=90)"
      ],
      "execution_count": null,
      "outputs": [
        {
          "output_type": "execute_result",
          "data": {
            "text/plain": [
              "([0, 1, 2, 3, 4, 5, 6, 7, 8, 9], <a list of 10 Text major ticklabel objects>)"
            ]
          },
          "metadata": {},
          "execution_count": 27
        },
        {
          "output_type": "display_data",
          "data": {
            "image/png": "[encoded data removed]",
            "text/plain": [
              "<Figure size 432x288 with 1 Axes>"
            ]
          },
          "metadata": {
            "needs_background": "light"
          }
        }
      ]
    },
    {
      "cell_type": "code",
      "metadata": {
        "id": "-TflMSoVai6v",
        "colab": {
          "base_uri": "https://localhost:8080/",
          "height": 838
        },
        "outputId": "11aab73f-ff44-48e3-bbf3-d07fd02edeb4"
      },
      "source": [
        "vacc_names_by_country = (df.groupby('vaccines').max()).sort_values('total_vaccinations', ascending=False)\n",
        "vacc_names_by_country"
      ],
      "execution_count": null,
      "outputs": [
        {
          "output_type": "execute_result",
          "data": {
            "text/html": [
              "<div>\n",
              "<style scoped>\n",
              "    .dataframe tbody tr th:only-of-type {\n",
              "        vertical-align: middle;\n",
              "    }\n",
              "\n",
              "    .dataframe tbody tr th {\n",
              "        vertical-align: top;\n",
              "    }\n",
              "\n",
              "    .dataframe thead th {\n",
              "        text-align: right;\n",
              "    }\n",
              "</style>\n",
              "<table border=\"1\" class=\"dataframe\">\n",
              "  <thead>\n",
              "    <tr style=\"text-align: right;\">\n",
              "      <th></th>\n",
              "      <th>country</th>\n",
              "      <th>iso_code</th>\n",
              "      <th>date</th>\n",
              "      <th>total_vaccinations</th>\n",
              "      <th>people_vaccinated</th>\n",
              "      <th>people_fully_vaccinated</th>\n",
              "      <th>daily_vaccinations_raw</th>\n",
              "      <th>daily_vaccinations</th>\n",
              "      <th>total_vaccinations_per_hundred</th>\n",
              "      <th>people_vaccinated_per_hundred</th>\n",
              "      <th>people_fully_vaccinated_per_hundred</th>\n",
              "      <th>daily_vaccinations_per_million</th>\n",
              "    </tr>\n",
              "    <tr>\n",
              "      <th>vaccines</th>\n",
              "      <th></th>\n",
              "      <th></th>\n",
              "      <th></th>\n",
              "      <th></th>\n",
              "      <th></th>\n",
              "      <th></th>\n",
              "      <th></th>\n",
              "      <th></th>\n",
              "      <th></th>\n",
              "      <th></th>\n",
              "      <th></th>\n",
              "      <th></th>\n",
              "    </tr>\n",
              "  </thead>\n",
              "  <tbody>\n",
              "    <tr>\n",
              "      <th>CanSino, Sinopharm/Beijing, Sinopharm/Wuhan, Sinovac, ZF2001</th>\n",
              "      <td>China</td>\n",
              "      <td>CHN</td>\n",
              "      <td>2021-12-04</td>\n",
              "      <td>2.543424e+09</td>\n",
              "      <td>1.225000e+09</td>\n",
              "      <td>1.110506e+09</td>\n",
              "      <td>24741000.0</td>\n",
              "      <td>22424286.0</td>\n",
              "      <td>176.11</td>\n",
              "      <td>84.82</td>\n",
              "      <td>76.89</td>\n",
              "      <td>15527.0</td>\n",
              "    </tr>\n",
              "    <tr>\n",
              "      <th>Covaxin, Oxford/AstraZeneca, Sputnik V</th>\n",
              "      <td>India</td>\n",
              "      <td>IND</td>\n",
              "      <td>2021-12-04</td>\n",
              "      <td>1.273806e+09</td>\n",
              "      <td>7.997455e+08</td>\n",
              "      <td>4.740607e+08</td>\n",
              "      <td>18627269.0</td>\n",
              "      <td>10037995.0</td>\n",
              "      <td>91.42</td>\n",
              "      <td>57.39</td>\n",
              "      <td>34.02</td>\n",
              "      <td>7204.0</td>\n",
              "    </tr>\n",
              "    <tr>\n",
              "      <th>Johnson&amp;Johnson, Moderna, Pfizer/BioNTech</th>\n",
              "      <td>United States</td>\n",
              "      <td>USA</td>\n",
              "      <td>2021-12-04</td>\n",
              "      <td>4.685168e+08</td>\n",
              "      <td>2.352980e+08</td>\n",
              "      <td>1.970743e+08</td>\n",
              "      <td>4513858.0</td>\n",
              "      <td>3493409.0</td>\n",
              "      <td>170.50</td>\n",
              "      <td>78.79</td>\n",
              "      <td>76.78</td>\n",
              "      <td>15335.0</td>\n",
              "    </tr>\n",
              "    <tr>\n",
              "      <th>Johnson&amp;Johnson, Oxford/AstraZeneca, Pfizer/BioNTech, Sinovac</th>\n",
              "      <td>Brazil</td>\n",
              "      <td>BRA</td>\n",
              "      <td>2021-12-04</td>\n",
              "      <td>3.144508e+08</td>\n",
              "      <td>1.645436e+08</td>\n",
              "      <td>1.368306e+08</td>\n",
              "      <td>3002675.0</td>\n",
              "      <td>1941268.0</td>\n",
              "      <td>146.94</td>\n",
              "      <td>76.89</td>\n",
              "      <td>63.94</td>\n",
              "      <td>9072.0</td>\n",
              "    </tr>\n",
              "    <tr>\n",
              "      <th>Moderna, Oxford/AstraZeneca, Pfizer/BioNTech, Sinopharm/Beijing, Sinovac</th>\n",
              "      <td>Indonesia</td>\n",
              "      <td>IDN</td>\n",
              "      <td>2021-12-04</td>\n",
              "      <td>2.414419e+08</td>\n",
              "      <td>1.424323e+08</td>\n",
              "      <td>9.900958e+07</td>\n",
              "      <td>3087420.0</td>\n",
              "      <td>1901294.0</td>\n",
              "      <td>87.36</td>\n",
              "      <td>51.54</td>\n",
              "      <td>35.83</td>\n",
              "      <td>6880.0</td>\n",
              "    </tr>\n",
              "    <tr>\n",
              "      <th>...</th>\n",
              "      <td>...</td>\n",
              "      <td>...</td>\n",
              "      <td>...</td>\n",
              "      <td>...</td>\n",
              "      <td>...</td>\n",
              "      <td>...</td>\n",
              "      <td>...</td>\n",
              "      <td>...</td>\n",
              "      <td>...</td>\n",
              "      <td>...</td>\n",
              "      <td>...</td>\n",
              "      <td>...</td>\n",
              "    </tr>\n",
              "    <tr>\n",
              "      <th>Johnson&amp;Johnson, Moderna</th>\n",
              "      <td>Haiti</td>\n",
              "      <td>HTI</td>\n",
              "      <td>2021-11-19</td>\n",
              "      <td>1.847690e+05</td>\n",
              "      <td>1.182220e+05</td>\n",
              "      <td>6.688800e+04</td>\n",
              "      <td>14852.0</td>\n",
              "      <td>5695.0</td>\n",
              "      <td>1.60</td>\n",
              "      <td>1.02</td>\n",
              "      <td>0.58</td>\n",
              "      <td>493.0</td>\n",
              "    </tr>\n",
              "    <tr>\n",
              "      <th>Oxford/AstraZeneca, Sinopharm/Beijing, Sputnik V</th>\n",
              "      <td>Seychelles</td>\n",
              "      <td>SYC</td>\n",
              "      <td>2021-11-29</td>\n",
              "      <td>1.794620e+05</td>\n",
              "      <td>8.193700e+04</td>\n",
              "      <td>7.795100e+04</td>\n",
              "      <td>3758.0</td>\n",
              "      <td>2401.0</td>\n",
              "      <td>181.44</td>\n",
              "      <td>82.84</td>\n",
              "      <td>78.81</td>\n",
              "      <td>24275.0</td>\n",
              "    </tr>\n",
              "    <tr>\n",
              "      <th>Oxford/AstraZeneca, Pfizer/BioNTech, Sputnik V</th>\n",
              "      <td>Antigua and Barbuda</td>\n",
              "      <td>ATG</td>\n",
              "      <td>2021-11-26</td>\n",
              "      <td>1.176370e+05</td>\n",
              "      <td>6.141800e+04</td>\n",
              "      <td>5.621900e+04</td>\n",
              "      <td>2221.0</td>\n",
              "      <td>1278.0</td>\n",
              "      <td>119.15</td>\n",
              "      <td>62.21</td>\n",
              "      <td>56.94</td>\n",
              "      <td>12945.0</td>\n",
              "    </tr>\n",
              "    <tr>\n",
              "      <th>Moderna</th>\n",
              "      <td>Wallis and Futuna</td>\n",
              "      <td>WLF</td>\n",
              "      <td>2021-12-03</td>\n",
              "      <td>7.780800e+04</td>\n",
              "      <td>4.027100e+04</td>\n",
              "      <td>3.753700e+04</td>\n",
              "      <td>2780.0</td>\n",
              "      <td>1128.0</td>\n",
              "      <td>136.82</td>\n",
              "      <td>70.81</td>\n",
              "      <td>66.01</td>\n",
              "      <td>30918.0</td>\n",
              "    </tr>\n",
              "    <tr>\n",
              "      <th>Pfizer/BioNTech, Sputnik V</th>\n",
              "      <td>San Marino</td>\n",
              "      <td>SMR</td>\n",
              "      <td>2021-11-28</td>\n",
              "      <td>4.783400e+04</td>\n",
              "      <td>2.545500e+04</td>\n",
              "      <td>2.237900e+04</td>\n",
              "      <td>990.0</td>\n",
              "      <td>725.0</td>\n",
              "      <td>140.65</td>\n",
              "      <td>74.85</td>\n",
              "      <td>65.80</td>\n",
              "      <td>21317.0</td>\n",
              "    </tr>\n",
              "  </tbody>\n",
              "</table>\n",
              "<p>76 rows × 12 columns</p>\n",
              "</div>"
            ],
            "text/plain": [
              "                                                                country  ... daily_vaccinations_per_million\n",
              "vaccines                                                                 ...                               \n",
              "CanSino, Sinopharm/Beijing, Sinopharm/Wuhan, Si...                China  ...                        15527.0\n",
              "Covaxin, Oxford/AstraZeneca, Sputnik V                            India  ...                         7204.0\n",
              "Johnson&Johnson, Moderna, Pfizer/BioNTech                 United States  ...                        15335.0\n",
              "Johnson&Johnson, Oxford/AstraZeneca, Pfizer/Bio...               Brazil  ...                         9072.0\n",
              "Moderna, Oxford/AstraZeneca, Pfizer/BioNTech, S...            Indonesia  ...                         6880.0\n",
              "...                                                                 ...  ...                            ...\n",
              "Johnson&Johnson, Moderna                                          Haiti  ...                          493.0\n",
              "Oxford/AstraZeneca, Sinopharm/Beijing, Sputnik V             Seychelles  ...                        24275.0\n",
              "Oxford/AstraZeneca, Pfizer/BioNTech, Sputnik V      Antigua and Barbuda  ...                        12945.0\n",
              "Moderna                                               Wallis and Futuna  ...                        30918.0\n",
              "Pfizer/BioNTech, Sputnik V                                   San Marino  ...                        21317.0\n",
              "\n",
              "[76 rows x 12 columns]"
            ]
          },
          "metadata": {},
          "execution_count": 28
        }
      ]
    },
    {
      "cell_type": "code",
      "metadata": {
        "colab": {
          "base_uri": "https://localhost:8080/",
          "height": 764
        },
        "id": "p8pxL__Z_m2e",
        "outputId": "fc7a8ead-072e-4964-a1d0-371b4b90176a"
      },
      "source": [
        "vacc_names_by_country = vacc_names_by_country.iloc[:10]\n",
        "vacc_names_by_country = vacc_names_by_country.reset_index()\n",
        "vacc_names_by_country"
      ],
      "execution_count": null,
      "outputs": [
        {
          "output_type": "execute_result",
          "data": {
            "text/html": [
              "<div>\n",
              "<style scoped>\n",
              "    .dataframe tbody tr th:only-of-type {\n",
              "        vertical-align: middle;\n",
              "    }\n",
              "\n",
              "    .dataframe tbody tr th {\n",
              "        vertical-align: top;\n",
              "    }\n",
              "\n",
              "    .dataframe thead th {\n",
              "        text-align: right;\n",
              "    }\n",
              "</style>\n",
              "<table border=\"1\" class=\"dataframe\">\n",
              "  <thead>\n",
              "    <tr style=\"text-align: right;\">\n",
              "      <th></th>\n",
              "      <th>vaccines</th>\n",
              "      <th>country</th>\n",
              "      <th>iso_code</th>\n",
              "      <th>date</th>\n",
              "      <th>total_vaccinations</th>\n",
              "      <th>people_vaccinated</th>\n",
              "      <th>people_fully_vaccinated</th>\n",
              "      <th>daily_vaccinations_raw</th>\n",
              "      <th>daily_vaccinations</th>\n",
              "      <th>total_vaccinations_per_hundred</th>\n",
              "      <th>people_vaccinated_per_hundred</th>\n",
              "      <th>people_fully_vaccinated_per_hundred</th>\n",
              "      <th>daily_vaccinations_per_million</th>\n",
              "    </tr>\n",
              "  </thead>\n",
              "  <tbody>\n",
              "    <tr>\n",
              "      <th>0</th>\n",
              "      <td>CanSino, Sinopharm/Beijing, Sinopharm/Wuhan, S...</td>\n",
              "      <td>China</td>\n",
              "      <td>CHN</td>\n",
              "      <td>2021-12-04</td>\n",
              "      <td>2.543424e+09</td>\n",
              "      <td>1.225000e+09</td>\n",
              "      <td>1.110506e+09</td>\n",
              "      <td>24741000.0</td>\n",
              "      <td>22424286.0</td>\n",
              "      <td>176.11</td>\n",
              "      <td>84.82</td>\n",
              "      <td>76.89</td>\n",
              "      <td>15527.0</td>\n",
              "    </tr>\n",
              "    <tr>\n",
              "      <th>1</th>\n",
              "      <td>Covaxin, Oxford/AstraZeneca, Sputnik V</td>\n",
              "      <td>India</td>\n",
              "      <td>IND</td>\n",
              "      <td>2021-12-04</td>\n",
              "      <td>1.273806e+09</td>\n",
              "      <td>7.997455e+08</td>\n",
              "      <td>4.740607e+08</td>\n",
              "      <td>18627269.0</td>\n",
              "      <td>10037995.0</td>\n",
              "      <td>91.42</td>\n",
              "      <td>57.39</td>\n",
              "      <td>34.02</td>\n",
              "      <td>7204.0</td>\n",
              "    </tr>\n",
              "    <tr>\n",
              "      <th>2</th>\n",
              "      <td>Johnson&amp;Johnson, Moderna, Pfizer/BioNTech</td>\n",
              "      <td>United States</td>\n",
              "      <td>USA</td>\n",
              "      <td>2021-12-04</td>\n",
              "      <td>4.685168e+08</td>\n",
              "      <td>2.352980e+08</td>\n",
              "      <td>1.970743e+08</td>\n",
              "      <td>4513858.0</td>\n",
              "      <td>3493409.0</td>\n",
              "      <td>170.50</td>\n",
              "      <td>78.79</td>\n",
              "      <td>76.78</td>\n",
              "      <td>15335.0</td>\n",
              "    </tr>\n",
              "    <tr>\n",
              "      <th>3</th>\n",
              "      <td>Johnson&amp;Johnson, Oxford/AstraZeneca, Pfizer/Bi...</td>\n",
              "      <td>Brazil</td>\n",
              "      <td>BRA</td>\n",
              "      <td>2021-12-04</td>\n",
              "      <td>3.144508e+08</td>\n",
              "      <td>1.645436e+08</td>\n",
              "      <td>1.368306e+08</td>\n",
              "      <td>3002675.0</td>\n",
              "      <td>1941268.0</td>\n",
              "      <td>146.94</td>\n",
              "      <td>76.89</td>\n",
              "      <td>63.94</td>\n",
              "      <td>9072.0</td>\n",
              "    </tr>\n",
              "    <tr>\n",
              "      <th>4</th>\n",
              "      <td>Moderna, Oxford/AstraZeneca, Pfizer/BioNTech, ...</td>\n",
              "      <td>Indonesia</td>\n",
              "      <td>IDN</td>\n",
              "      <td>2021-12-04</td>\n",
              "      <td>2.414419e+08</td>\n",
              "      <td>1.424323e+08</td>\n",
              "      <td>9.900958e+07</td>\n",
              "      <td>3087420.0</td>\n",
              "      <td>1901294.0</td>\n",
              "      <td>87.36</td>\n",
              "      <td>51.54</td>\n",
              "      <td>35.83</td>\n",
              "      <td>6880.0</td>\n",
              "    </tr>\n",
              "    <tr>\n",
              "      <th>5</th>\n",
              "      <td>Moderna, Oxford/AstraZeneca, Pfizer/BioNTech</td>\n",
              "      <td>Wales</td>\n",
              "      <td>SXM</td>\n",
              "      <td>2021-12-04</td>\n",
              "      <td>1.974232e+08</td>\n",
              "      <td>9.986151e+07</td>\n",
              "      <td>9.755810e+07</td>\n",
              "      <td>6586453.0</td>\n",
              "      <td>1997542.0</td>\n",
              "      <td>185.35</td>\n",
              "      <td>80.79</td>\n",
              "      <td>77.40</td>\n",
              "      <td>22778.0</td>\n",
              "    </tr>\n",
              "    <tr>\n",
              "      <th>6</th>\n",
              "      <td>CanSino, Johnson&amp;Johnson, Moderna, Oxford/Astr...</td>\n",
              "      <td>Mexico</td>\n",
              "      <td>MEX</td>\n",
              "      <td>2021-12-02</td>\n",
              "      <td>1.332562e+08</td>\n",
              "      <td>7.736631e+07</td>\n",
              "      <td>6.516687e+07</td>\n",
              "      <td>7246123.0</td>\n",
              "      <td>1648223.0</td>\n",
              "      <td>102.30</td>\n",
              "      <td>59.39</td>\n",
              "      <td>50.03</td>\n",
              "      <td>12653.0</td>\n",
              "    </tr>\n",
              "    <tr>\n",
              "      <th>7</th>\n",
              "      <td>EpiVacCorona, Sputnik V</td>\n",
              "      <td>Russia</td>\n",
              "      <td>RUS</td>\n",
              "      <td>2021-12-04</td>\n",
              "      <td>1.302656e+08</td>\n",
              "      <td>6.799171e+07</td>\n",
              "      <td>5.848006e+07</td>\n",
              "      <td>2389472.0</td>\n",
              "      <td>1020075.0</td>\n",
              "      <td>89.28</td>\n",
              "      <td>46.60</td>\n",
              "      <td>40.08</td>\n",
              "      <td>6991.0</td>\n",
              "    </tr>\n",
              "    <tr>\n",
              "      <th>8</th>\n",
              "      <td>Moderna, Oxford/AstraZeneca, Pfizer/BioNTech, ...</td>\n",
              "      <td>Vietnam</td>\n",
              "      <td>VNM</td>\n",
              "      <td>2021-12-03</td>\n",
              "      <td>1.268468e+08</td>\n",
              "      <td>7.315530e+07</td>\n",
              "      <td>5.369147e+07</td>\n",
              "      <td>2091069.0</td>\n",
              "      <td>1675471.0</td>\n",
              "      <td>138.12</td>\n",
              "      <td>74.52</td>\n",
              "      <td>63.99</td>\n",
              "      <td>22125.0</td>\n",
              "    </tr>\n",
              "    <tr>\n",
              "      <th>9</th>\n",
              "      <td>Johnson&amp;Johnson, Moderna, Oxford/AstraZeneca, ...</td>\n",
              "      <td>Spain</td>\n",
              "      <td>ROU</td>\n",
              "      <td>2021-12-04</td>\n",
              "      <td>1.266218e+08</td>\n",
              "      <td>5.976498e+07</td>\n",
              "      <td>5.732369e+07</td>\n",
              "      <td>1429151.0</td>\n",
              "      <td>875304.0</td>\n",
              "      <td>193.68</td>\n",
              "      <td>89.04</td>\n",
              "      <td>87.78</td>\n",
              "      <td>21977.0</td>\n",
              "    </tr>\n",
              "  </tbody>\n",
              "</table>\n",
              "</div>"
            ],
            "text/plain": [
              "                                            vaccines  ... daily_vaccinations_per_million\n",
              "0  CanSino, Sinopharm/Beijing, Sinopharm/Wuhan, S...  ...                        15527.0\n",
              "1             Covaxin, Oxford/AstraZeneca, Sputnik V  ...                         7204.0\n",
              "2          Johnson&Johnson, Moderna, Pfizer/BioNTech  ...                        15335.0\n",
              "3  Johnson&Johnson, Oxford/AstraZeneca, Pfizer/Bi...  ...                         9072.0\n",
              "4  Moderna, Oxford/AstraZeneca, Pfizer/BioNTech, ...  ...                         6880.0\n",
              "5       Moderna, Oxford/AstraZeneca, Pfizer/BioNTech  ...                        22778.0\n",
              "6  CanSino, Johnson&Johnson, Moderna, Oxford/Astr...  ...                        12653.0\n",
              "7                            EpiVacCorona, Sputnik V  ...                         6991.0\n",
              "8  Moderna, Oxford/AstraZeneca, Pfizer/BioNTech, ...  ...                        22125.0\n",
              "9  Johnson&Johnson, Moderna, Oxford/AstraZeneca, ...  ...                        21977.0\n",
              "\n",
              "[10 rows x 13 columns]"
            ]
          },
          "metadata": {},
          "execution_count": 31
        }
      ]
    },
    {
      "cell_type": "code",
      "metadata": {
        "colab": {
          "base_uri": "https://localhost:8080/",
          "height": 897
        },
        "id": "ds8vOaHD_y-M",
        "outputId": "7011c071-8bd7-4fca-d026-f5ad0eb4d660"
      },
      "source": [
        "plt.figure(figsize=(18,6))\n",
        "sns.barplot(data=vacc_names_by_country, x='vaccines', y='total_vaccinations')\n",
        "plt.xticks(rotation=90)"
      ],
      "execution_count": null,
      "outputs": [
        {
          "output_type": "execute_result",
          "data": {
            "text/plain": [
              "(array([0, 1, 2, 3, 4, 5, 6, 7, 8, 9]),\n",
              " <a list of 10 Text major ticklabel objects>)"
            ]
          },
          "metadata": {},
          "execution_count": 33
        },
        {
          "output_type": "display_data",
          "data": {
            "image/png": "[encoded data removed]",
            "text/plain": [
              "<Figure size 1296x432 with 1 Axes>"
            ]
          },
          "metadata": {
            "needs_background": "light"
          }
        }
      ]
    }
  ]
}